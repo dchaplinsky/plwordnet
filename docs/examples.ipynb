{
 "cells": [
  {
   "cell_type": "markdown",
   "metadata": {},
   "source": [
    "# PlWordNet Demo"
   ]
  },
  {
   "cell_type": "markdown",
   "metadata": {},
   "source": [
    "## Utility code"
   ]
  },
  {
   "cell_type": "code",
   "execution_count": 1,
   "metadata": {},
   "outputs": [],
   "source": [
    "from time import time\n",
    "\n",
    "# just a simple class for measuring execution time\n",
    "class timer:\n",
    "    def __enter__(s):\n",
    "        s.t = time()\n",
    "    def __exit__(s,x,y,z):\n",
    "        print(f'took {time() - s.t:.2f} seconds')"
   ]
  },
  {
   "cell_type": "markdown",
   "metadata": {},
   "source": [
    "## Loading `PlWordNet`"
   ]
  },
  {
   "cell_type": "code",
   "execution_count": 2,
   "metadata": {},
   "outputs": [],
   "source": [
    "import plwordnet"
   ]
  },
  {
   "cell_type": "markdown",
   "metadata": {},
   "source": [
    "You can load .xml, .pkl files. They can also be compressed gzip, lzma or bzip2 (.gz/.xz/.bz2).\n",
    "\n",
    "Alternatively, you can pass an opened file object (rb) to `load`.\n",
    "\n",
    "Passing the emotion/sentiment file is optional.\n",
    "\n",
    "The argument `full_parse=True` causes the lexical unit descriptions to be parsed after loading."
   ]
  },
  {
   "cell_type": "code",
   "execution_count": 3,
   "metadata": {
    "scrolled": true
   },
   "outputs": [
    {
     "name": "stdout",
     "output_type": "stream",
     "text": [
      "took 32.89 seconds\n"
     ]
    }
   ],
   "source": [
    "with timer():\n",
    "    wn = plwordnet.load('../local/plwordnet_4_2.xml', '../local/sentiment_4_2.csv', full_parse=True)"
   ]
  },
  {
   "cell_type": "markdown",
   "metadata": {},
   "source": [
    "Calling `str` on `Wordnet` shows basic statistics."
   ]
  },
  {
   "cell_type": "code",
   "execution_count": 4,
   "metadata": {},
   "outputs": [
    {
     "data": {
      "text/plain": [
       "Słowosieć\n",
       "  lexical units: 513410\n",
       "  synsets: 353585\n",
       "  relation types: 306\n",
       "  synset relations: 1477851\n",
       "  lexical relations: 393137\n",
       "  emotional annotations: 60438\n",
       "  rich descriptions: 294496"
      ]
     },
     "execution_count": 4,
     "metadata": {},
     "output_type": "execute_result"
    }
   ],
   "source": [
    "wn"
   ]
  },
  {
   "cell_type": "markdown",
   "metadata": {},
   "source": [
    "Pickle the `Wordnet` object for faster loading. Note that the pickled object may not be compatible between different `plwordnet` library versions."
   ]
  },
  {
   "cell_type": "code",
   "execution_count": 5,
   "metadata": {},
   "outputs": [],
   "source": [
    "wn.dump('../local/plwordnet_4_2.pkl')"
   ]
  },
  {
   "cell_type": "code",
   "execution_count": 6,
   "metadata": {},
   "outputs": [
    {
     "name": "stdout",
     "output_type": "stream",
     "text": [
      "took 10.63 seconds\n"
     ]
    }
   ],
   "source": [
    "with timer():\n",
    "    wn_from_pickle = plwordnet.load('../local/plwordnet_4_2.pkl')"
   ]
  },
  {
   "cell_type": "markdown",
   "metadata": {},
   "source": [
    "## Examples "
   ]
  },
  {
   "cell_type": "markdown",
   "metadata": {},
   "source": [
    "Find all lexical units with a given name (case-insensitive)"
   ]
  },
  {
   "cell_type": "code",
   "execution_count": 7,
   "metadata": {},
   "outputs": [
    {
     "data": {
      "text/plain": [
       "[LexicalUnit(id=12131, name='jabłko', variant=1, pos='rzeczownik', language='pl', domain='jedz', tag_count=0, description='##K: og. ##D: owoc (wielopestkowiec) jabłoni. [##P: Jabłka są kształtem zbliżone do kuli, z zagłębieniem na szczycie, z którego wystaje ogonek.] {##L: http://pl.wikipedia.org/wiki/Jab%C5%82ko}', rich_description=Description(qualifier='og.', definition='owoc (wielopestkowiec) jabłoni.', examples=['Jabłka są kształtem zbliżone do kuli, z zagłębieniem na szczycie, z którego wystaje ogonek.'], links=['http://pl.wikipedia.org/wiki/Jab%C5%82ko'], unparsed=' ', from_synset=False), sentiment=[], synset=Synset(id=4605, definition='', split=1, abstract=False, description='', lexical_units=[...])),\n",
       " LexicalUnit(id=43481, name='jabłko', variant=2, pos='rzeczownik', language='pl', domain='wytw', tag_count=0, description='##K: og. ##D: jeden z trzech symboli władzy królewskiej, obok korony i berła. {##L: http://pl.wikipedia.org/wiki/Jabłko_królewskie}', rich_description=Description(qualifier='og.', definition='jeden z trzech symboli władzy królewskiej, obok korony i berła.', examples=[], links=['http://pl.wikipedia.org/wiki/Jabłko_królewskie'], unparsed='', from_synset=False), sentiment=[], synset=Synset(id=27568, definition='', split=1, abstract=False, description='', lexical_units=[..., LexicalUnit(id=368440, name='jabłko królewskie', variant=1, pos='rzeczownik', language='pl', domain='wytw', tag_count=0, description='##K: og. ##D: klejnot w kształcie kuli z krzyżem na górze będący symbolem władzy monarszej. [##W: centralną jego postacią jest król Danii św. Kanut w błękitnej zbroi i złotej koronie trzymający w prawej ręce błękitny sztandar ze złotą lilią, a w lewej dłoni złote jabłko królewskie, które wraz z koroną jest oznaką jego władzy monarszej.] {##L: https://pl.wikipedia.org/wiki/Jab%C5%82ko_kr%C3%B3lewskie} <##DD> <##REF: EPWN>', rich_description=Description(qualifier='og.', definition='klejnot w kształcie kuli z krzyżem na górze będący symbolem władzy monarszej.', examples=['centralną jego postacią jest król Danii św. Kanut w błękitnej zbroi i złotej koronie trzymający w prawej ręce błękitny sztandar ze złotą lilią, a w lewej dłoni złote jabłko królewskie, które wraz z koroną jest oznaką jego władzy monarszej.'], links=['https://pl.wikipedia.org/wiki/Jab%C5%82ko_kr%C3%B3lewskie'], unparsed='   ', from_synset=False), sentiment=[], synset=...)]))]"
      ]
     },
     "execution_count": 7,
     "metadata": {},
     "output_type": "execute_result"
    }
   ],
   "source": [
    "wn.find('jabłko')"
   ]
  },
  {
   "cell_type": "markdown",
   "metadata": {},
   "source": [
    "Get a specific LU variant. Notice the pretty printing of lexical units in Jupyter!"
   ]
  },
  {
   "cell_type": "code",
   "execution_count": 8,
   "metadata": {},
   "outputs": [
    {
     "name": "stdout",
     "output_type": "stream",
     "text": [
      "LexicalUnit(id=12131, name='jabłko', variant=1, pos='rzeczownik', language='pl', domain='jedz', tag_count=0, description='##K: og. ##D: owoc (wielopestkowiec) jabłoni. [##P: Jabłka są kształtem zbliżone do kuli, z zagłębieniem na szczycie, z którego wystaje ogonek.] {##L: http://pl.wikipedia.org/wiki/Jab%C5%82ko}', rich_description=Description(qualifier='og.', definition='owoc (wielopestkowiec) jabłoni.', examples=['Jabłka są kształtem zbliżone do kuli, z zagłębieniem na szczycie, z którego wystaje ogonek.'], links=['http://pl.wikipedia.org/wiki/Jab%C5%82ko'], unparsed=' ', from_synset=False), sentiment=[], synset=Synset(id=4605, definition='', split=1, abstract=False, description='', lexical_units=[...]))\n"
     ]
    }
   ],
   "source": [
    "lu = wn.find('jabłko.1')\n",
    "print(repr(lu))"
   ]
  },
  {
   "cell_type": "code",
   "execution_count": 9,
   "metadata": {},
   "outputs": [
    {
     "data": {
      "text/html": [
       "<style>th, td { text-align: left !important; }</style><table width=500><colgroup><col span=\"1\" style=\"width: 20%;\"><col span=\"1\" style=\"width: 80%\"></colgroup><thead><tr><th>#12131</th><td>NOUN PL jabłko 1</td></tr></thead><tr><th>DEFINITION</th><td>owoc (wielopestkowiec) jabłoni.</td></tr><tr><th>DOMAIN</th><td>jedz</td></tr><tr><th>EXAMPLES</th><td>Jabłka są kształtem zbliżone do kuli, z zagłębieniem na szczycie, z którego wystaje ogonek.</td></tr><tr><th>LINKS</th><td><a target=\"_blank\" href=\"http://pl.wikipedia.org/wiki/Jab%C5%82ko\">http://pl.wikipedia.org/wiki/Jab%C5%82ko</a></td></tr></table>"
      ],
      "text/plain": [
       "LexicalUnit(id=12131, name='jabłko', variant=1, pos='rzeczownik', language='pl', domain='jedz', tag_count=0, description='##K: og. ##D: owoc (wielopestkowiec) jabłoni. [##P: Jabłka są kształtem zbliżone do kuli, z zagłębieniem na szczycie, z którego wystaje ogonek.] {##L: http://pl.wikipedia.org/wiki/Jab%C5%82ko}', rich_description=Description(qualifier='og.', definition='owoc (wielopestkowiec) jabłoni.', examples=['Jabłka są kształtem zbliżone do kuli, z zagłębieniem na szczycie, z którego wystaje ogonek.'], links=['http://pl.wikipedia.org/wiki/Jab%C5%82ko'], unparsed=' ', from_synset=False), sentiment=[], synset=Synset(id=4605, definition='', split=1, abstract=False, description='', lexical_units=[...]))"
      ]
     },
     "execution_count": 9,
     "metadata": {},
     "output_type": "execute_result"
    }
   ],
   "source": [
    "lu"
   ]
  },
  {
   "cell_type": "code",
   "execution_count": 10,
   "metadata": {},
   "outputs": [
    {
     "data": {
      "text/html": [
       "<style>th, td { text-align: left !important; }</style><table width=500><colgroup><col span=\"1\" style=\"width: 20%;\"><col span=\"1\" style=\"width: 80%\"></colgroup><thead><tr><th>#14</th><td>ADJ PL abstrakcyjny 1</td></tr></thead><tr><th>DEFINITION</th><td>oryginalny, niesztampowy, nieco oderwany od rzeczywistości.</td></tr><tr><th>DOMAIN</th><td>jak</td></tr><tr><th>EXAMPLES</th><td>Był to dość abstrakcyjny pomysł, zwłaszcza w Łodzi, gdzie nikt nie słyszał ani o Piłsudskim, ani o „Sokole” czy „Zarzewiu”, do których Jerzy dołączył w Krakowie.<br><br>Mam abstrakcyjny pomysł na wakacje, ale to się może udać!</td></tr><tr><th>SENTIMENT ANNOTATION</th><td><table><tr><th>POLARITY</th><td>strong negative</td></tr><tr><th>EMOTIONS</th><td>wstręt, złość, zaskoczenie</td></tr><tr><th>VALUATIONS</th><td>niewiedza, błąd, nieużyteczność</td></tr><tr><th>EXAMPLES</th><td>Jej propozycje są zupełnie abstrakcyjne, nie do zastosowania w świecie realnym.</td></tr></table></td></tr><tr><th>SENTIMENT ANNOTATION</th><td><table><tr><th>POLARITY</th><td>strong negative</td></tr><tr><th>EMOTIONS</th><td>wstręt, złość</td></tr><tr><th>VALUATIONS</th><td>niewiedza, błąd, nieużyteczność</td></tr><tr><th>EXAMPLES</th><td>Nie wiem, jak powinnam powiedzieć mężowi, że jego plan jest totalnie abstrakcyjny i nic z tego nie wyjdzie.</td></tr></table></td></tr></table>"
      ],
      "text/plain": [
       "LexicalUnit(id=14, name='abstrakcyjny', variant=1, pos='przymiotnik', language='pl', domain='jak', tag_count=92, description='##K: og. ##D: oryginalny, niesztampowy, nieco oderwany od rzeczywistości. [##P: Był to dość abstrakcyjny pomysł, zwłaszcza w Łodzi, gdzie nikt nie słyszał ani o Piłsudskim, ani o „Sokole” czy „Zarzewiu”, do których Jerzy dołączył w Krakowie.] [##P: Mam abstrakcyjny pomysł na wakacje, ale to się może udać!] ##A1: {złość, wstręt, zaskoczenie; nieużyteczność, niewiedza, błąd} - s [Jej propozycje są zupełnie abstrakcyjne, nie do zastosowania w świecie realnym.] ##A2: {złość, wstręt; nieużyteczność, niewiedza, błąd} - s [Nie wiem, jak powinnam powiedzieć mężowi, że jego plan jest totalnie abstrakcyjny i nic z tego nie wyjdzie.]', rich_description=Description(qualifier='og.', definition='oryginalny, niesztampowy, nieco oderwany od rzeczywistości.', examples=['Był to dość abstrakcyjny pomysł, zwłaszcza w Łodzi, gdzie nikt nie słyszał ani o Piłsudskim, ani o „Sokole” czy „Zarzewiu”, do których Jerzy dołączył w Krakowie.', 'Mam abstrakcyjny pomysł na wakacje, ale to się może udać!'], links=[], unparsed='  ', from_synset=False), sentiment=[EmotionalAnnotation(polarity=-2, emotions=['wstręt', 'złość', 'zaskoczenie'], valuations=['niewiedza', 'błąd', 'nieużyteczność'], examples=['Jej propozycje są zupełnie abstrakcyjne, nie do zastosowania w świecie realnym.']), EmotionalAnnotation(polarity=-2, emotions=['wstręt', 'złość'], valuations=['niewiedza', 'błąd', 'nieużyteczność'], examples=['Nie wiem, jak powinnam powiedzieć mężowi, że jego plan jest totalnie abstrakcyjny i nic z tego nie wyjdzie.'])], synset=Synset(id=103631, definition='', split=1, abstract=False, description='', lexical_units=[...]))"
      ]
     },
     "execution_count": 10,
     "metadata": {},
     "output_type": "execute_result"
    }
   ],
   "source": [
    "wn.find('abstrakcyjny.1')"
   ]
  },
  {
   "cell_type": "markdown",
   "metadata": {},
   "source": [
    "Show some relations and their ids"
   ]
  },
  {
   "cell_type": "code",
   "execution_count": 11,
   "metadata": {
    "scrolled": false
   },
   "outputs": [
    {
     "name": "stdout",
     "output_type": "stream",
     "text": [
      "---\n",
      "10, hiponimia, relacja pomiędzy synsetami\n",
      "Relacja łącząca znaczenie z drugim, ogólniejszym, niż to pierwsze, ale należącym do tej samej części mowy, co ono.\n",
      "---\n",
      "11, hiperonimia, relacja pomiędzy synsetami\n",
      "Relacja łącząca znaczenie z drugim, szczegółowszym, niż to pierwsze, ale należącym do tej samej części mowy, co ono.\n",
      "---\n",
      "12, antonimia, relacja leksykalna\n",
      "Relacja łącząca przeciwne znaczenia reprezentowane przez tę samą część mowy. Może być właściwa, kiedy oprócz przeciwnych znaczeń X i Y dopuszczamy istnienie jakiegoś Z, lub komplementarna, kiedy nie dopuszczamy takiej możliwości (istnieje albo X, albo Y).\n",
      "---\n",
      "13, konwersja, relacja leksykalna\n",
      "Relacja łącząca znaczenia reprezentowane przez tę samą część mowy, które opisują to samo zjawisko, ale z dwóch różnych (przeciwnych sobie) punktów widzenia.\n",
      "---\n",
      "14, meronimia, relacja pomiędzy synsetami\n",
      "Relacja łączy rzeczownik, który jest częścią (porcją, elementem grupy, miejscem, materiałem) czegoś innego, z drugim rzeczownikiem, oznaczającym całość w stosunku do części.\n"
     ]
    }
   ],
   "source": [
    "for x in list(wn.relation_types.values())[:5]:\n",
    "    print('---')\n",
    "    print(x.id, x.name, x.type, sep=', ')\n",
    "    print(x.description)"
   ]
  },
  {
   "cell_type": "markdown",
   "metadata": {},
   "source": [
    "Show first 10 synset relations with predicate 11 (hyperonymy). Use the short relation name for printing."
   ]
  },
  {
   "cell_type": "code",
   "execution_count": 12,
   "metadata": {
    "scrolled": true
   },
   "outputs": [
    {
     "name": "stdout",
     "output_type": "stream",
     "text": [
      "{rozmowa.1 konwersacja.1 dialog.1 dyskurs.1} hipero {pogawędka.1 pogaduszka.1 pogwarka.1 pogaducha.1 rozmówka.1 gawędka.1 gawęda.3 gadu-gadu.1}\n",
      "{rozmowa.1 konwersacja.1 dialog.1 dyskurs.1} hipero {dyskusja.1 dysputa.1 debata.1 debatowanie.3 dysputacja.1}\n",
      "{brudas.2 smoluch.2} hipero {rumun.3}\n",
      "{dyskusja.1 dysputa.1 debata.1 debatowanie.3 dysputacja.1} hipero {obrady.1 posiedzenie.7 rada.3 narada.1 sesja.2}\n",
      "{zranić.2} hipero {odstręczyć.1 zrazić.1}\n",
      "{wypowiedź.1} hipero {przemówienie.6 przemowa.1 mowa.1}\n",
      "{tekst.3} hipero {rozprawa.2 elaborat.1 traktat.1}\n",
      "{komunikat.1} hipero {aluzja.1}\n",
      "{wypowiedź.1} hipero {orzeczenie.1 postanowienie.2}\n",
      "{ciapaty.1 ciapek.2} hipero {pakol.1}\n"
     ]
    }
   ],
   "source": [
    "for s, p, o in wn.synset_relations_where(predicate=11)[:10]:\n",
    "    print(p.format(s, o, short=True))"
   ]
  },
  {
   "cell_type": "markdown",
   "metadata": {},
   "source": [
    "Show all relations where a lexical unit 'miód.1' is a subject or an object:"
   ]
  },
  {
   "cell_type": "code",
   "execution_count": 13,
   "metadata": {},
   "outputs": [
    {
     "name": "stdout",
     "output_type": "stream",
     "text": [
      "LEXICAL RELATIONS\n",
      "kolokacyjność → gęsty.4\n",
      "kolokacyjność ← plaster.3\n",
      "derywacyjność ← miodówka.3\n",
      "derywacyjność ← miodarka.1\n",
      "podobieństwo ← miodny.1\n",
      "podobieństwo ← miodowy.2\n",
      "derywacyjność ← miodny.2\n",
      "kolokacyjność ← beczka.1\n",
      "derywacyjność ← miododajny.1\n",
      "derywacyjność ← miododajny.2\n",
      "derywacyjność ← miodownik.2\n",
      "podobieństwo ← miodny.4\n",
      "kolokacyjność ← słodziuchny.1\n",
      "derywacyjność ← miód.3\n",
      "derywacyjność ← miodonośny.2\n",
      "ekspresywność | augmentatywność ← miodek.1\n",
      "derywacyjność ← miodonośny.1\n",
      "rola: materiał ← miodowy.3\n",
      "synonimia międzyparadygmatyczna dla relacyjnych ← miodowy.4\n",
      "podobieństwo ← miodowy.1\n",
      "\n",
      "SYNSET RELATIONS\n",
      "Syn_plWN-PWN → {honey.1}\n",
      "hiperonimia → {miód pszczeli.1}\n",
      "materiał → {pożytek.2 pożytek pszczeli.1}\n",
      "hiperonimia → {manuka.2}\n",
      "część → {fruktoza.1 cukier owocowy.1}\n",
      "hiponimia → {surowiec farmaceutyczny.1}\n",
      "mmateriał_plWN-PWN → {hydromel.1}\n",
      "fuzzynimia_synsetów ⟷ {plaster.3}\n",
      "materiał → {glukoza.1 cukier gronowy.1 dekstroza.1 ...}\n",
      "fuzzynimia_synsetów ⟷ {pszczoła.1}\n",
      "hiponimia → {przyprawa.1}\n",
      "mmateriał_plWN-PWN → {oenomel.1}\n",
      "materiał ← {kand.1}\n",
      "materiał ← {nugat.1}\n",
      "materiał ← {miodownik.2}\n",
      "określnik ← {spadziowy.1}\n",
      "czas_przy_niewyrażonym_predykacie ← {miodobranie.1}\n",
      "hiponimia ← {miód pszczeli.1}\n",
      "Syn_PWN-plWN ← {honey.1}\n",
      "materiał ← {miodek turecki.1}\n",
      "materiał ← {zbiteń.1}\n",
      "materiał ← {bakława.1 baklawa.1 baklava.1}\n",
      "materiał ← {kutia.1}\n",
      "materiał ← {krupnik.2}\n",
      "materiał ← {miodówka.3 nalewka miodowa.1}\n",
      "hmateriał_PWN-plWN ← {hydromel.1}\n",
      "określnik ← {koniczynowy.2}\n",
      "materiał ← {makagiga.1 makagigi.1}\n",
      "określnik ← {jednokwiatowy.1}\n",
      "określnik ← {wielokwiatowy.3}\n",
      "określnik ← {nektarowy.1}\n",
      "obszar ← {apiterapia.1}\n",
      "hiperonimia ← {przyprawa.1}\n",
      "hiperonimia ← {surowiec farmaceutyczny.1}\n",
      "hiponimia ← {manuka.2}\n",
      "hmateriał_PWN-plWN ← {oenomel.1}\n",
      "materiał ← {obnóże.1}\n",
      "materiał ← {glogg.1 glögg.2}\n",
      "subiekt_przy_niewyrażonym_predykacie ← {miodownik.5}\n",
      "materiał ← {syta.1}\n",
      "materiał ← {rura.3}\n",
      "\n"
     ]
    }
   ],
   "source": [
    "print(wn.show_relations(wn.find('miód.1')))"
   ]
  },
  {
   "cell_type": "markdown",
   "metadata": {},
   "source": [
    "Show all subjects of relations with predicate 13 (konwersja), where a lexical unit with lemma 'prababcia' is an object. Also show the part of speech and synset of the found subjects."
   ]
  },
  {
   "cell_type": "code",
   "execution_count": 14,
   "metadata": {},
   "outputs": [
    {
     "name": "stdout",
     "output_type": "stream",
     "text": [
      "---\n",
      "prawnuczę.1\n",
      "part of speech = rzeczownik\n",
      "synset = {prawnuczę.1}\n",
      "---\n",
      "prawnuk.1\n",
      "part of speech = rzeczownik\n",
      "synset = {prawnuk.1 prawnuczek.1}\n",
      "---\n",
      "prawnuczka.1\n",
      "part of speech = rzeczownik\n",
      "synset = {prawnuczka.1}\n"
     ]
    }
   ],
   "source": [
    "for lu in wn.find('prababcia'):\n",
    "    for s, p, o in wn.lexical_relations_where(predicate=13, object=lu):\n",
    "        print('---')\n",
    "        print(s)\n",
    "        print('part of speech =', s.pos)\n",
    "        print('synset =', s.synset)"
   ]
  },
  {
   "cell_type": "code",
   "execution_count": null,
   "metadata": {},
   "outputs": [],
   "source": []
  }
 ],
 "metadata": {
  "kernelspec": {
   "display_name": "Python 3",
   "language": "python",
   "name": "python3"
  },
  "language_info": {
   "codemirror_mode": {
    "name": "ipython",
    "version": 3
   },
   "file_extension": ".py",
   "mimetype": "text/x-python",
   "name": "python",
   "nbconvert_exporter": "python",
   "pygments_lexer": "ipython3",
   "version": "3.9.5"
  }
 },
 "nbformat": 4,
 "nbformat_minor": 4
}

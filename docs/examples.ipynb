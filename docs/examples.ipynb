{
 "cells": [
  {
   "cell_type": "markdown",
   "metadata": {},
   "source": [
    "# PlWordNet Demo"
   ]
  },
  {
   "cell_type": "markdown",
   "metadata": {},
   "source": [
    "## Utility code"
   ]
  },
  {
   "cell_type": "code",
   "execution_count": 1,
   "metadata": {},
   "outputs": [],
   "source": [
    "from time import time\n",
    "\n",
    "# just a simple class for measuring execution time\n",
    "class timer:\n",
    "    def __enter__(s):\n",
    "        s.t = time()\n",
    "    def __exit__(s,x,y,z):\n",
    "        print(f'took {time() - s.t:.2f} seconds')"
   ]
  },
  {
   "cell_type": "markdown",
   "metadata": {},
   "source": [
    "## Loading `PlWordNet`"
   ]
  },
  {
   "cell_type": "code",
   "execution_count": 2,
   "metadata": {},
   "outputs": [],
   "source": [
    "import plwordnet"
   ]
  },
  {
   "cell_type": "markdown",
   "metadata": {},
   "source": [
    "You can load .xml, .pkl files. They can also be compressed gzip or lzma (.gz or .xz).\n",
    "\n",
    "Alternatively, you can pass an opened file object (rb) to `load`."
   ]
  },
  {
   "cell_type": "code",
   "execution_count": 3,
   "metadata": {
    "scrolled": true
   },
   "outputs": [
    {
     "name": "stdout",
     "output_type": "stream",
     "text": [
      "took 22.50 seconds\n"
     ]
    }
   ],
   "source": [
    "with timer():\n",
    "    wn = plwordnet.load('../local/plwordnet_4_2.xml.xz')"
   ]
  },
  {
   "cell_type": "markdown",
   "metadata": {},
   "source": [
    "Calling `str` on `Wordnet` shows basic statistics."
   ]
  },
  {
   "cell_type": "code",
   "execution_count": 4,
   "metadata": {},
   "outputs": [
    {
     "data": {
      "text/plain": [
       "PlWordnet\n",
       "  lexical units: 513410\n",
       "  synsets: 353586\n",
       "  relation types: 306\n",
       "  synset relations: 1477851\n",
       "  lexical relations: 393137"
      ]
     },
     "execution_count": 4,
     "metadata": {},
     "output_type": "execute_result"
    }
   ],
   "source": [
    "wn"
   ]
  },
  {
   "cell_type": "markdown",
   "metadata": {},
   "source": [
    "Pickle the `Wordnet` object for faster loading. Note that the pickled object may not be compatible between different `plwordnet` library versions."
   ]
  },
  {
   "cell_type": "code",
   "execution_count": 5,
   "metadata": {},
   "outputs": [],
   "source": [
    "wn.dump('../local/plwordnet_4_2.pkl')"
   ]
  },
  {
   "cell_type": "code",
   "execution_count": 6,
   "metadata": {},
   "outputs": [
    {
     "name": "stdout",
     "output_type": "stream",
     "text": [
      "took 7.20 seconds\n"
     ]
    }
   ],
   "source": [
    "with timer():\n",
    "    wn_from_pickle = plwordnet.load('../local/plwordnet_4_2.pkl')"
   ]
  },
  {
   "cell_type": "markdown",
   "metadata": {},
   "source": [
    "## Examples "
   ]
  },
  {
   "cell_type": "markdown",
   "metadata": {},
   "source": [
    "Show some relations and their ids"
   ]
  },
  {
   "cell_type": "code",
   "execution_count": 7,
   "metadata": {
    "scrolled": false
   },
   "outputs": [
    {
     "name": "stdout",
     "output_type": "stream",
     "text": [
      "---\n",
      "10, hiponimia, relacja pomiędzy synsetami\n",
      "Relacja łącząca znaczenie z drugim, ogólniejszym, niż to pierwsze, ale należącym do tej samej części mowy, co ono.\n",
      "---\n",
      "11, hiperonimia, relacja pomiędzy synsetami\n",
      "Relacja łącząca znaczenie z drugim, szczegółowszym, niż to pierwsze, ale należącym do tej samej części mowy, co ono.\n",
      "---\n",
      "12, antonimia, relacja leksykalna\n",
      "Relacja łącząca przeciwne znaczenia reprezentowane przez tę samą część mowy. Może być właściwa, kiedy oprócz przeciwnych znaczeń X i Y dopuszczamy istnienie jakiegoś Z, lub komplementarna, kiedy nie dopuszczamy takiej możliwości (istnieje albo X, albo Y).\n",
      "---\n",
      "13, konwersja, relacja leksykalna\n",
      "Relacja łącząca znaczenia reprezentowane przez tę samą część mowy, które opisują to samo zjawisko, ale z dwóch różnych (przeciwnych sobie) punktów widzenia.\n",
      "---\n",
      "14, meronimia, relacja pomiędzy synsetami\n",
      "Relacja łączy rzeczownik, który jest częścią (porcją, elementem grupy, miejscem, materiałem) czegoś innego, z drugim rzeczownikiem, oznaczającym całość w stosunku do części.\n"
     ]
    }
   ],
   "source": [
    "for x in list(wn.relation_types.values())[:5]:\n",
    "    print('---')\n",
    "    print(x.id, x.name, x.type, sep=', ')\n",
    "    print(x.description)"
   ]
  },
  {
   "cell_type": "markdown",
   "metadata": {},
   "source": [
    "Show first 10 synset relations with predicate 14 (hiperonimia). Use the short relation name for printing."
   ]
  },
  {
   "cell_type": "code",
   "execution_count": 8,
   "metadata": {
    "scrolled": true
   },
   "outputs": [
    {
     "name": "stdout",
     "output_type": "stream",
     "text": [
      "{#551 : dialog.1 dyskurs.1 konwersacja.1 rozmowa.1} hipero {#1366 : gadu-gadu.1 gawęda.3 gawędka.1 pogaducha.1 pogaduszka.1 pogawędka.1 pogwarka.1 rozmówka.1}\n",
      "{#551 : dialog.1 dyskurs.1 konwersacja.1 rozmowa.1} hipero {#712 : debata.1 debatowanie.3 dyskusja.1 dysputa.1 dysputacja.1}\n",
      "{#646 : zranić.2} hipero {#7067247 : odstręczyć.1 zrazić.1}\n",
      "{#473702 : brudas.2 smoluch.2} hipero {#473124 : rumun.3}\n",
      "{#712 : debata.1 debatowanie.3 dyskusja.1 dysputa.1 dysputacja.1} hipero {#2844 : narada.1 obrady.1 posiedzenie.7 rada.3 sesja.2}\n",
      "{#3998 : wypowiedź.1} hipero {#2684 : mowa.1 przemowa.1 przemówienie.6}\n",
      "{#3476 : tekst.3} hipero {#2956 : elaborat.1 rozprawa.2 traktat.1}\n",
      "{#7000 : komunikat.1} hipero {#260116 : aluzja.1}\n",
      "{#3998 : wypowiedź.1} hipero {#2190 : orzeczenie.1 postanowienie.2}\n",
      "{#473680 : ciapaty.1 ciapek.2} hipero {#395114 : pakol.1}\n"
     ]
    }
   ],
   "source": [
    "for s, p, o in wn.synset_relations_where(predicate=11)[:10]:\n",
    "    print(p.format(s, o, short=True))"
   ]
  },
  {
   "cell_type": "markdown",
   "metadata": {},
   "source": [
    "Show all relations where a lexical unit with lemma 'miód' is a subject or an object:"
   ]
  },
  {
   "cell_type": "code",
   "execution_count": 9,
   "metadata": {},
   "outputs": [
    {
     "name": "stdout",
     "output_type": "stream",
     "text": [
      "miód.3 jest derywatem od miód.1\n",
      "miód.2 tworzy kolokację z puchar.3\n",
      "'miodek.2' to nazwa ekspresywna/augmentatywna derywowana od miód.2\n",
      "miodowy.5 jest zrobione z miód.2\n",
      "miodowy.6 jest synonimem mpar. do miód.2\n",
      "miodosytnictwo.1 jest derywatem od miód.2\n",
      "miód.1 tworzy kolokację z gęsty.4\n",
      "plaster.3 tworzy kolokację z miód.1\n",
      "miodówka.3 jest derywatem od miód.1\n",
      "miodarka.1 jest derywatem od miód.1\n",
      "miodny.1 przypomina miód.1\n",
      "miodowy.2 przypomina miód.1\n",
      "miodny.2 jest derywatem od miód.1\n",
      "beczka.1 tworzy kolokację z miód.1\n",
      "miododajny.1 jest derywatem od miód.1\n",
      "miododajny.2 jest derywatem od miód.1\n",
      "miodownik.2 jest derywatem od miód.1\n",
      "miodny.4 przypomina miód.1\n",
      "słodziuchny.1 tworzy kolokację z miód.1\n",
      "miód.3 jest derywatem od miód.1\n",
      "miodonośny.2 jest derywatem od miód.1\n",
      "'miodek.1' to nazwa ekspresywna/augmentatywna derywowana od miód.1\n",
      "miodonośny.1 jest derywatem od miód.1\n",
      "miodowy.3 jest zrobione z miód.1\n",
      "miodowy.4 jest synonimem mpar. do miód.1\n",
      "miodowy.1 przypomina miód.1\n"
     ]
    }
   ],
   "source": [
    "for lu in wn.lemmas('miód'):\n",
    "    for s, p, o in wn.lexical_relations_where(subject=lu) + wn.lexical_relations_where(object=lu):\n",
    "        print(p.format(s, o))"
   ]
  },
  {
   "cell_type": "markdown",
   "metadata": {},
   "source": [
    "Show all subjects of relations with predicate 13 (konwersja), where a lexical unit with lemma 'prababcia' is an object. Also show the part of speech and synset of the found subjects."
   ]
  },
  {
   "cell_type": "code",
   "execution_count": 10,
   "metadata": {},
   "outputs": [
    {
     "name": "stdout",
     "output_type": "stream",
     "text": [
      "---\n",
      "prawnuczę.1\n",
      "part of speech = rzeczownik\n",
      "synset = {#49788 : prawnuczę.1}\n",
      "---\n",
      "prawnuk.1\n",
      "part of speech = rzeczownik\n",
      "synset = {#31324 : prawnuczek.1 prawnuk.1}\n",
      "---\n",
      "prawnuczka.1\n",
      "part of speech = rzeczownik\n",
      "synset = {#31325 : prawnuczka.1}\n"
     ]
    }
   ],
   "source": [
    "for lu in wn.lemmas('prababcia'):\n",
    "    for s, p, o in wn.lexical_relations_where(predicate=13, object=lu):\n",
    "        print('---')\n",
    "        print(s)\n",
    "        print('part of speech =', s.pos)\n",
    "        print('synset =', s.synset)"
   ]
  },
  {
   "cell_type": "code",
   "execution_count": null,
   "metadata": {},
   "outputs": [],
   "source": []
  }
 ],
 "metadata": {
  "kernelspec": {
   "display_name": "Python 3",
   "language": "python",
   "name": "python3"
  },
  "language_info": {
   "codemirror_mode": {
    "name": "ipython",
    "version": 3
   },
   "file_extension": ".py",
   "mimetype": "text/x-python",
   "name": "python",
   "nbconvert_exporter": "python",
   "pygments_lexer": "ipython3",
   "version": "3.8.3"
  }
 },
 "nbformat": 4,
 "nbformat_minor": 4
}
